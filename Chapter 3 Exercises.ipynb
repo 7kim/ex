{
 "cells": [
  {
   "cell_type": "markdown",
   "metadata": {},
   "source": [
    "# Chapter 3 Exercises"
   ]
  },
  {
   "cell_type": "markdown",
   "metadata": {},
   "source": [
    "## Reinforcement\n"
   ]
  },
  {
   "cell_type": "code",
   "execution_count": 1,
   "metadata": {},
   "outputs": [],
   "source": [
    "#-----------R3-1-----------------\n",
    "import matplotlib.pyplot as plt\n",
    "import numpy as np\n",
    "import math\n",
    "\n",
    "x = [10**i for i in range(10)]\n",
    "\n",
    "funcs = [lambda x: 8*x,\n",
    "        lambda x: 4*x*math.log(x),\n",
    "        lambda x: 2*x**2,\n",
    "        lambda x: x**3,\n",
    "        #lambda x: 2**x    #Note, this is too time consuming to compute\n",
    "        ]\n",
    "\n",
    "ys = []\n",
    "\n",
    "for func in funcs:\n",
    "    ys.append(list(map(func, x)))\n",
    "\n",
    "for y in ys:\n",
    "    plt.plot(x, y)\n",
    "plt.yscale('log')\n",
    "plt.xscale('log')\n"
   ]
  },
  {
   "cell_type": "code",
   "execution_count": 2,
   "metadata": {},
   "outputs": [
    {
     "data": {
      "text/plain": [
       "'The answer is approximately 1.5 from the intersection between the graphs'"
      ]
     },
     "execution_count": 2,
     "metadata": {},
     "output_type": "execute_result"
    },
    {
     "data": {
      "image/png": "[encoded data removed]",
      "text/plain": [
       "<Figure size 432x288 with 1 Axes>"
      ]
     },
     "metadata": {},
     "output_type": "display_data"
    }
   ],
   "source": [
    "#-------------R3-2-------------------\n",
    "\"\"\"\n",
    "A is better than B for n greater than n when 8nlogn = 2n^2, or 4logn = n\n",
    "\n",
    "\"\"\"\n",
    "\n",
    "x = [x/100 for x in range(1, 500)]\n",
    "y1 = list(map(lambda x: 4*math.log(x),x))\n",
    "y2 = x\n",
    "\n",
    "plt.plot(x, y1)\n",
    "plt.plot(x, y2)\n",
    "\n",
    "\"\"\"The answer is approximately 1.5 from the intersection between the graphs\"\"\""
   ]
  },
  {
   "cell_type": "code",
   "execution_count": 3,
   "metadata": {},
   "outputs": [
    {
     "data": {
      "text/plain": [
       "'\\n40n^2 = 2n^3 when n = 20, which means n0 = 20\\n\\n'"
      ]
     },
     "execution_count": 3,
     "metadata": {},
     "output_type": "execute_result"
    }
   ],
   "source": [
    "#-------------R3-3--------------\n",
    "\"\"\"\n",
    "40n^2 = 2n^3 when n = 20, which means n0 = 20\n",
    "\n",
    "\"\"\""
   ]
  },
  {
   "cell_type": "code",
   "execution_count": 4,
   "metadata": {},
   "outputs": [
    {
     "data": {
      "text/plain": [
       "'\\nA constant function is plotted the same on each scale\\n\\n'"
      ]
     },
     "execution_count": 4,
     "metadata": {},
     "output_type": "execute_result"
    }
   ],
   "source": [
    "#----------R3-4--------------------\n",
    "\"\"\"\n",
    "A constant function is plotted the same on each scale\n",
    "\n",
    "\"\"\""
   ]
  },
  {
   "cell_type": "code",
   "execution_count": 5,
   "metadata": {},
   "outputs": [
    {
     "data": {
      "text/plain": [
       "'\\nif y = n^c, then log(y) = log(n^c) = c log(n).\\n\\nThis is of the form y=mx for a log scale\\n\\n\\n'"
      ]
     },
     "execution_count": 5,
     "metadata": {},
     "output_type": "execute_result"
    }
   ],
   "source": [
    "#---------------R3-5-------------\n",
    "\"\"\"\n",
    "if y = n^c, then log(y) = log(n^c) = c log(n).\n",
    "\n",
    "This is of the form y=mx for a log scale\n",
    "\n",
    "\n",
    "\"\"\""
   ]
  },
  {
   "cell_type": "code",
   "execution_count": 6,
   "metadata": {},
   "outputs": [
    {
     "data": {
      "text/plain": [
       "'\\nThe sum is twice the sum of all the numbers from 0 to n, which is 2*(n+1)(n)/2 = (n+1)(n)\\n'"
      ]
     },
     "execution_count": 6,
     "metadata": {},
     "output_type": "execute_result"
    }
   ],
   "source": [
    "#-----------R3-6------------------\n",
    "\"\"\"\n",
    "The sum is twice the sum of all the numbers from 0 to n, which is 2*(n+1)(n)/2 = (n+1)(n)\n",
    "\"\"\""
   ]
  },
  {
   "cell_type": "code",
   "execution_count": 7,
   "metadata": {},
   "outputs": [
    {
     "data": {
      "text/plain": [
       "'\\nIf the worst case runtime is O(f(n)), then there is a constant c such that cf(n)>worst_case for n>n0\\n\\nSince the worst case is always >= to all other cases, (worst case runtime >= g(n)), then cf(n)>=worst_case>= all other cases A\\n\\nSince a>=b and b>=c, then a>=c, which means that c (the algorithm A) is O(f(n))\\n\\n'"
      ]
     },
     "execution_count": 7,
     "metadata": {},
     "output_type": "execute_result"
    }
   ],
   "source": [
    "#--------------R3-7----------------\n",
    "\"\"\"\n",
    "If the worst case runtime is O(f(n)), then there is a constant c such that cf(n)>worst_case for n>n0\n",
    "\n",
    "Since the worst case is always >= to all other cases, (worst case runtime >= g(n)), then cf(n)>=worst_case>= all other cases A\n",
    "\n",
    "Since a>=b and b>=c, then a>=c, which means that c (the algorithm A) is O(f(n))\n",
    "\n",
    "\"\"\""
   ]
  },
  {
   "cell_type": "code",
   "execution_count": 8,
   "metadata": {},
   "outputs": [
    {
     "data": {
      "text/plain": [
       "'\\nIn increasing order or asymptotic growth rate...\\n\\nconstant (2^10)\\n\\nn (2^log(n) = n)\\nn (3n + 100logn) (<- this grows at a faster rate than the one before because 3>1)\\nn (4n) <- 4>3 and the 100logn term will eventually become relatively trivial at high n\\nnlogn (nlogn)\\nnlogn (4nlogn + 2n) <- Grows quicker because of the constant\\nn^2 (n^2 + 10)\\nn^3 (n^3)\\n2^n (2^n)\\n\\n'"
      ]
     },
     "execution_count": 8,
     "metadata": {},
     "output_type": "execute_result"
    }
   ],
   "source": [
    "#--------------R3-8----------------------\n",
    "\"\"\"\n",
    "In increasing order or asymptotic growth rate...\n",
    "\n",
    "constant (2^10)\n",
    "\n",
    "n (2^log(n) = n)\n",
    "n (3n + 100logn) (<- this grows at a faster rate than the one before because 3>1)\n",
    "n (4n) <- 4>3 and the 100logn term will eventually become relatively trivial at high n\n",
    "nlogn (nlogn)\n",
    "nlogn (4nlogn + 2n) <- Grows quicker because of the constant\n",
    "n^2 (n^2 + 10)\n",
    "n^3 (n^3)\n",
    "2^n (2^n)\n",
    "\n",
    "\"\"\"\n",
    "\n"
   ]
  },
  {
   "cell_type": "code",
   "execution_count": 9,
   "metadata": {},
   "outputs": [
    {
     "data": {
      "text/plain": [
       "\"\\nif d(n) is O(f(n)), there is a constant such that d(n) <= cf(n) for every n>n0.\\n\\nif we multiply d(n) by a, we get (ad(n)) <= acf(n) = c'f(n)\\n\\nEssentially, the new constant will be c_old * a, which still maintains the original condition of O notation, which \\nwill be true when n>a*n0\\n\""
      ]
     },
     "execution_count": 9,
     "metadata": {},
     "output_type": "execute_result"
    }
   ],
   "source": [
    "#------------R3-9------------------\n",
    "\"\"\"\n",
    "if d(n) is O(f(n)), there is a constant such that d(n) <= cf(n) for every n>n0.\n",
    "\n",
    "if we multiply d(n) by a, we get (ad(n)) <= acf(n) = c'f(n)\n",
    "\n",
    "Essentially, the new constant will be c_old * a, which still maintains the original condition of O notation, which \n",
    "will be true when n>a*n0\n",
    "\"\"\""
   ]
  },
  {
   "cell_type": "code",
   "execution_count": 10,
   "metadata": {},
   "outputs": [
    {
     "data": {
      "text/plain": [
       "\"\\nIf d(n) is O(f(n)) and e(n) is O(g(n)), then d(n)<= cf(n) for n_f>n_f0 and e(n)<= dg(n) for n_e>n_e0\\n\\nas a result, d(n)e(n) <= (cf(n))*(dg(n)) and n_f*n_e > n_f0*n_e0\\n\\nwhich means that there is a new n' = n_f*n_e and and n0' = n_f0*n_e0, and a c' = c*d such that \\nd(n)e(n) <= c'(f(n)g(n)) for n'>n0', which means that d(n)e(n) is O(f(n)g(n))\\n\\n\\n\""
      ]
     },
     "execution_count": 10,
     "metadata": {},
     "output_type": "execute_result"
    }
   ],
   "source": [
    "#-----------R-3-10-----------------------\n",
    "\"\"\"\n",
    "If d(n) is O(f(n)) and e(n) is O(g(n)), then d(n)<= cf(n) for n_f>n_f0 and e(n)<= dg(n) for n_e>n_e0\n",
    "\n",
    "as a result, d(n)e(n) <= (cf(n))*(dg(n)) and n_f*n_e > n_f0*n_e0\n",
    "\n",
    "which means that there is a new n' = n_f*n_e and and n0' = n_f0*n_e0, and a c' = c*d such that \n",
    "d(n)e(n) <= c'(f(n)g(n)) for n'>n0', which means that d(n)e(n) is O(f(n)g(n))\n",
    "\n",
    "\n",
    "\"\"\""
   ]
  },
  {
   "cell_type": "code",
   "execution_count": 11,
   "metadata": {},
   "outputs": [
    {
     "data": {
      "text/plain": [
       "\"\\nLike before, if d(n) is O(f(n)) and e(n) is O(g(n)), then d(n)<= cf(n) for n_f>n_f0 and e(n)<= dg(n) for n_e>n_e0\\n\\nThat means that d(n) + e(n) <= (cf(n)) + (dg(n)) and n > n_f0+n_e0\\n\\nwhich means that there is a new n' = n_f+n_e and and n0' = n_f0+n_e0, such that:\\n\\nd(n) + e(n) <= cf(n) + dg(n) for n>n0'; however, this still does not satisfy O notation.  \\n\\nWe can absorb c and d into their functions such that  d(n) + e(n) <= f(cn) + g(dn) \\n\\nTo absorb c, we note that n'' = cn', so n' = n''/c, which means that n''/c >= n0''/c\\n\\nsimilarly for d, n''/cd >= n0''/cd\\n\\nTherefore there are new values of n0 such that \\n\\nd(n) + e(n) <= (f(n)+d(n)) for n>= n0'', which satisfies O(f(n) + d(n)) conditions\\n\\n\\n\""
      ]
     },
     "execution_count": 11,
     "metadata": {},
     "output_type": "execute_result"
    }
   ],
   "source": [
    "#-------------R3-11--------------\n",
    "\"\"\"\n",
    "Like before, if d(n) is O(f(n)) and e(n) is O(g(n)), then d(n)<= cf(n) for n_f>n_f0 and e(n)<= dg(n) for n_e>n_e0\n",
    "\n",
    "That means that d(n) + e(n) <= (cf(n)) + (dg(n)) and n > n_f0+n_e0\n",
    "\n",
    "which means that there is a new n' = n_f+n_e and and n0' = n_f0+n_e0, such that:\n",
    "\n",
    "d(n) + e(n) <= cf(n) + dg(n) for n>n0'; however, this still does not satisfy O notation.  \n",
    "\n",
    "We can absorb c and d into their functions such that  d(n) + e(n) <= f(cn) + g(dn) \n",
    "\n",
    "To absorb c, we note that n'' = cn', so n' = n''/c, which means that n''/c >= n0''/c\n",
    "\n",
    "similarly for d, n''/cd >= n0''/cd\n",
    "\n",
    "Therefore there are new values of n0 such that \n",
    "\n",
    "d(n) + e(n) <= (f(n)+d(n)) for n>= n0'', which satisfies O(f(n) + d(n)) conditions\n",
    "\n",
    "\n",
    "\"\"\""
   ]
  },
  {
   "cell_type": "code",
   "execution_count": 12,
   "metadata": {},
   "outputs": [
    {
     "data": {
      "text/plain": [
       "\"\\nThe key point here is that just because something is O(n) doesn't mean that is has to be that function\\nFor example, f(n) = 5 is O(n) is mathematically true, although it is poor form to say so\\n\\nTherefore, if we have d(n) = n and e(n) = n with f(n) = n and g(n) = n, then we satisfy\\nd(n) <= C(f(n)) for n>=0, and e(n) <= C2(g(n)) for n>=0\\n\\nf(n)-g(n) = 0 and d(n) -e(n) = n\\n\\nThere is no value for n>0 such that 0>=n, which means that d(n) -e(n) is not O(f(n)-g(n))\\n\\nSide Note: The wikipedia definition of Big-O is |f(n)| <= Mg(x) for all x>x0,\\nwhich provides more opportunities to disprove this property\\n\\n\""
      ]
     },
     "execution_count": 12,
     "metadata": {},
     "output_type": "execute_result"
    }
   ],
   "source": [
    "#-------------R3-12--------------\n",
    "\"\"\"\n",
    "The key point here is that just because something is O(n) doesn't mean that is has to be that function\n",
    "For example, f(n) = 5 is O(n) is mathematically true, although it is poor form to say so\n",
    "\n",
    "Therefore, if we have d(n) = n and e(n) = n with f(n) = n and g(n) = n, then we satisfy\n",
    "d(n) <= C(f(n)) for n>=0, and e(n) <= C2(g(n)) for n>=0\n",
    "\n",
    "f(n)-g(n) = 0 and d(n) -e(n) = n\n",
    "\n",
    "There is no value for n>0 such that 0>=n, which means that d(n) -e(n) is not O(f(n)-g(n))\n",
    "\n",
    "Side Note: The wikipedia definition of Big-O is |f(n)| <= Mg(x) for all x>x0,\n",
    "which provides more opportunities to disprove this property\n",
    "\n",
    "\"\"\"\n"
   ]
  },
  {
   "cell_type": "code",
   "execution_count": 13,
   "metadata": {},
   "outputs": [
    {
     "data": {
      "text/plain": [
       "\"\\nIf d(n) is O(f(n)) and f(n) is O(g(n)), then d(n)<= cf(n) for n_f>n_f0 and f(n)<= dg(n) for n_g>n_g0\\n\\n\\nIf that is true, then d(n)<=cf(n)<=c(d(g(n))) = cd*g(n) = c'g(n) by substitution, which is true for\\nn_f*n_g>n_f0*n_g0, or n>n0'\\n\\nTogether, these satisfy the conditions of d(n) is O(g(n))\\n\\n\""
      ]
     },
     "execution_count": 13,
     "metadata": {},
     "output_type": "execute_result"
    }
   ],
   "source": [
    "#-------------R3-13-----------------\n",
    "\"\"\"\n",
    "If d(n) is O(f(n)) and f(n) is O(g(n)), then d(n)<= cf(n) for n_f>n_f0 and f(n)<= dg(n) for n_g>n_g0\n",
    "\n",
    "\n",
    "If that is true, then d(n)<=cf(n)<=c(d(g(n))) = cd*g(n) = c'g(n) by substitution, which is true for\n",
    "n_f*n_g>n_f0*n_g0, or n>n0'\n",
    "\n",
    "Together, these satisfy the conditions of d(n) is O(g(n))\n",
    "\n",
    "\"\"\""
   ]
  },
  {
   "cell_type": "code",
   "execution_count": 14,
   "metadata": {},
   "outputs": [
    {
     "data": {
      "text/plain": [
       "'\\nBy definition, if y is the output of max{f(n), g(n)}, then by definition\\ny>=f(n) and y>=g(n), which means that 2y>=f(n) + g(n)\\nThat means that f(n) + g(n) <= 2(max{f(n), g(n)}) for every n>n0=0,\\nwhich satisfies our requirements for O\\n\\n'"
      ]
     },
     "execution_count": 14,
     "metadata": {},
     "output_type": "execute_result"
    }
   ],
   "source": [
    "#------------R3-14---------------------\n",
    "\"\"\"\n",
    "By definition, if y is the output of max{f(n), g(n)}, then by definition\n",
    "y>=f(n) and y>=g(n), which means that 2y>=f(n) + g(n)\n",
    "That means that f(n) + g(n) <= 2(max{f(n), g(n)}) for every n>n0=0,\n",
    "which satisfies our requirements for O\n",
    "\n",
    "\"\"\""
   ]
  },
  {
   "cell_type": "code",
   "execution_count": 15,
   "metadata": {},
   "outputs": [
    {
     "data": {
      "text/plain": [
       "'\\nfor f(n) to be O(g(n)), f(n)<=Cg(n) for all n>n0\\n\\nfor g(n) to be T(f(n)), g(n)>= Cf(b) for all n>n0\\n\\n\\nif g(n) is not T(f(n)), then there is a value where g(n)<=cf(b) for n>n0\\n\\nif that is true, then g(n)<=cf(n) at the critical n, then f(n)<=(1/c)f(n) for some n>n0\\n(note this is true because c>0)\\nwhich violates the rules for f(n) is O(g(n)).\\n\\nTherefore, the orginal statement holds by contraposition\\n\\n\\n\\n\\n'"
      ]
     },
     "execution_count": 15,
     "metadata": {},
     "output_type": "execute_result"
    }
   ],
   "source": [
    "#----------R3-15-------------------\n",
    "\"\"\"\n",
    "for f(n) to be O(g(n)), f(n)<=Cg(n) for all n>n0\n",
    "\n",
    "for g(n) to be T(f(n)), g(n)>= Cf(b) for all n>n0\n",
    "\n",
    "\n",
    "if g(n) is not T(f(n)), then there is a value where g(n)<=cf(b) for n>n0\n",
    "\n",
    "if that is true, then g(n)<=cf(n) at the critical n, then f(n)<=(1/c)f(n) for some n>n0\n",
    "(note this is true because c>0)\n",
    "which violates the rules for f(n) is O(g(n)).\n",
    "\n",
    "Therefore, the orginal statement holds by contraposition\n",
    "\n",
    "\n",
    "\n",
    "\n",
    "\"\"\""
   ]
  },
  {
   "cell_type": "code",
   "execution_count": 16,
   "metadata": {},
   "outputs": [
    {
     "data": {
      "text/plain": [
       "\"\\nIt has been shown earlier that a polynomial is O(n^d), where d is its highest order\\n\\nTherefore, f(n) <= f'(n), where f'(n) = Cn^d\\n\\nif we take the logarithm of this function, we get log(cn^d) = log(c) + dlog(n)\\n\\nWe can ignore the constant term, which means that log(f(n)) <= dlog(n), which means that\\nlog(f(n)) is O(log(n)) for a polynomial\\n\\n\""
      ]
     },
     "execution_count": 16,
     "metadata": {},
     "output_type": "execute_result"
    }
   ],
   "source": [
    "\n",
    "#--------------R3-16---------------------------\n",
    "\"\"\"\n",
    "It has been shown earlier that a polynomial is O(n^d), where d is its highest order\n",
    "\n",
    "Therefore, f(n) <= f'(n), where f'(n) = Cn^d\n",
    "\n",
    "if we take the logarithm of this function, we get log(cn^d) = log(c) + dlog(n)\n",
    "\n",
    "We can ignore the constant term, which means that log(f(n)) <= dlog(n), which means that\n",
    "log(f(n)) is O(log(n)) for a polynomial\n",
    "\n",
    "\"\"\""
   ]
  },
  {
   "cell_type": "code",
   "execution_count": 17,
   "metadata": {},
   "outputs": [
    {
     "data": {
      "text/plain": [
       "'\\nIf you expand out the function, you get n^5 + ax^4 + .... + 1,\\nwhich is < (1+a+a2...+1)n^5 for all n>n0.\\n\\nTherefore, it is O(n^5)\\n\\n'"
      ]
     },
     "execution_count": 17,
     "metadata": {},
     "output_type": "execute_result"
    }
   ],
   "source": [
    "#--------------R3-17----------------------------\n",
    "\"\"\"\n",
    "If you expand out the function, you get n^5 + ax^4 + .... + 1,\n",
    "which is < (1+a+a2...+1)n^5 for all n>n0.\n",
    "\n",
    "Therefore, it is O(n^5)\n",
    "\n",
    "\"\"\""
   ]
  },
  {
   "cell_type": "code",
   "execution_count": 18,
   "metadata": {},
   "outputs": [
    {
     "data": {
      "text/plain": [
       "'\\nFrom the power rules, 2^(n+1) = (2)(2^n), which means there is a constant C=2 such that\\n2^(n+1) <= Cf(n) for n>n0, where f(n) = 2^n\\n\\nTherefor 2^(n+1) is O(2^n)\\n\\n'"
      ]
     },
     "execution_count": 18,
     "metadata": {},
     "output_type": "execute_result"
    }
   ],
   "source": [
    "#------------R3-18-------------------------\n",
    "\"\"\"\n",
    "From the power rules, 2^(n+1) = (2)(2^n), which means there is a constant C=2 such that\n",
    "2^(n+1) <= Cf(n) for n>n0, where f(n) = 2^n\n",
    "\n",
    "Therefor 2^(n+1) is O(2^n)\n",
    "\n",
    "\"\"\""
   ]
  },
  {
   "cell_type": "code",
   "execution_count": 19,
   "metadata": {},
   "outputs": [
    {
     "data": {
      "text/plain": [
       "'\\nWe have shown previously that if d(n) is O(f(n)) and e(n) is O(g(n)), then \\nd(n)e(n) is O(f(n)g(n)).\\n\\nIf we set d(n) = n and e(n) = 1, with f(n) = n and g(n) = log(n), then \\n(n)(1) is O(nlog(n)), satisfying our requirements.\\n\\n\\n\\n'"
      ]
     },
     "execution_count": 19,
     "metadata": {},
     "output_type": "execute_result"
    }
   ],
   "source": [
    "#-----------R3-19-----------------------\n",
    "\"\"\"\n",
    "We have shown previously that if d(n) is O(f(n)) and e(n) is O(g(n)), then \n",
    "d(n)e(n) is O(f(n)g(n)).\n",
    "\n",
    "If we set d(n) = n and e(n) = 1, with f(n) = n and g(n) = log(n), then \n",
    "(n)(1) is O(nlog(n)), satisfying our requirements.\n",
    "\n",
    "\n",
    "\n",
    "\"\"\""
   ]
  },
  {
   "cell_type": "code",
   "execution_count": 20,
   "metadata": {},
   "outputs": [
    {
     "data": {
      "text/plain": [
       "'\\nWe have shown that f(n) is O(g(n)) iff g(n) is T(f(n))\\n\\nTherefore, if nlogn is O(n^2), we have proved the above.\\n\\nLike in the previous exercise, log(n) is O(n) and n is O(n), so\\nnlogn is O(n^2) and therefore (n^2) is T(nlogn) for n>n0\\n\\n\\n'"
      ]
     },
     "execution_count": 20,
     "metadata": {},
     "output_type": "execute_result"
    }
   ],
   "source": [
    "#------------R3-20---------------------\n",
    "\"\"\"\n",
    "We have shown that f(n) is O(g(n)) iff g(n) is T(f(n))\n",
    "\n",
    "Therefore, if nlogn is O(n^2), we have proved the above.\n",
    "\n",
    "Like in the previous exercise, log(n) is O(n) and n is O(n), so\n",
    "nlogn is O(n^2) and therefore (n^2) is T(nlogn) for n>n0\n",
    "\n",
    "\n",
    "\"\"\""
   ]
  },
  {
   "cell_type": "code",
   "execution_count": 21,
   "metadata": {},
   "outputs": [
    {
     "data": {
      "text/plain": [
       "'\\nAs before, 1 is O(log(n)) for n>n0 (where n0>2 since log(1)=0)\\n\\nTherefore (n)*(1) is O(log(n)*n) and n is O(nlogn)\\n\\n'"
      ]
     },
     "execution_count": 21,
     "metadata": {},
     "output_type": "execute_result"
    }
   ],
   "source": [
    "#---------R3-21-------------------\n",
    "\"\"\"\n",
    "As before, 1 is O(log(n)) for n>n0 (where n0>2 since log(1)=0)\n",
    "\n",
    "Therefore (n)*(1) is O(log(n)*n) and n is O(nlogn)\n",
    "\n",
    "\"\"\""
   ]
  },
  {
   "cell_type": "code",
   "execution_count": 22,
   "metadata": {},
   "outputs": [
    {
     "data": {
      "text/plain": [
       "'\\nf(n) <= ceil(f(n)) for all n>0, but ceil(f(n)) <= f(n) + 1.\\n\\nWe have shown that O(f(n) + g(n)) = O(max(f(n), g(n)),\\nif f(n) is f(n) and g(n) is 1, then O(f(n) + g(n)) is O(max(f(n), 1)), which will be \\n\\nf(n) for a specific range n>n0\\n\\nTherefore, cuil(f(n)) is O(f(n))\\n\\n\\n'"
      ]
     },
     "execution_count": 22,
     "metadata": {},
     "output_type": "execute_result"
    }
   ],
   "source": [
    "#------------R3-22-----------------------\n",
    "\"\"\"\n",
    "f(n) <= ceil(f(n)) for all n>0, but ceil(f(n)) <= f(n) + 1.\n",
    "\n",
    "We have shown that O(f(n) + g(n)) = O(max(f(n), g(n)),\n",
    "if f(n) is f(n) and g(n) is 1, then O(f(n) + g(n)) is O(max(f(n), 1)), which will be \n",
    "\n",
    "f(n) for a specific range n>n0\n",
    "\n",
    "Therefore, cuil(f(n)) is O(f(n))\n",
    "\n",
    "\n",
    "\"\"\""
   ]
  },
  {
   "cell_type": "code",
   "execution_count": 23,
   "metadata": {},
   "outputs": [
    {
     "data": {
      "text/plain": [
       "'\\nAccessing the len requires O(1)\\n\\nthe loop is called n times -> O(n)\\n    each loop requires O(1) times\\nOverall, the loop is O(n)\\n\\nThe return takes O(1)\\n\\nTherefore, O(1+n+1) is O(n)\\n\\n\\n'"
      ]
     },
     "execution_count": 23,
     "metadata": {},
     "output_type": "execute_result"
    }
   ],
   "source": [
    "#------------R3-23--------------------------\n",
    "\"\"\"\n",
    "Accessing the len requires O(1)\n",
    "\n",
    "the loop is called n times -> O(n)\n",
    "    each loop requires O(1) times\n",
    "Overall, the loop is O(n)\n",
    "\n",
    "The return takes O(1)\n",
    "\n",
    "Therefore, O(1+n+1) is O(n)\n",
    "\n",
    "\n",
    "\"\"\""
   ]
  },
  {
   "cell_type": "code",
   "execution_count": 24,
   "metadata": {},
   "outputs": [
    {
     "data": {
      "text/plain": [
       "'\\nAccessing the len requires O(1)\\n\\nthe loop is called n/2 times -> still O(n)\\n    each loop requires O(1) times\\nOverall, the loop is O(n)\\n\\nThe return takes O(1)\\n\\nTherefore, O(1+n+1) is O(n)\\n\\n'"
      ]
     },
     "execution_count": 24,
     "metadata": {},
     "output_type": "execute_result"
    }
   ],
   "source": [
    "#--------------R3-24-------------------------\n",
    "\"\"\"\n",
    "Accessing the len requires O(1)\n",
    "\n",
    "the loop is called n/2 times -> still O(n)\n",
    "    each loop requires O(1) times\n",
    "Overall, the loop is O(n)\n",
    "\n",
    "The return takes O(1)\n",
    "\n",
    "Therefore, O(1+n+1) is O(n)\n",
    "\n",
    "\"\"\""
   ]
  },
  {
   "cell_type": "code",
   "execution_count": 25,
   "metadata": {},
   "outputs": [
    {
     "data": {
      "text/plain": [
       "'\\nThe initial steps are O(1)\\n\\nThe outer loop is called (n) times\\n    The inner loop is called between 1-n times\\n        Each inner loop action is O(1)\\nThe overall number of calls is 2, 3, 4, 5, ....n = (n)(n+1)/2 - 1, which is O(n^2)\\n\\nTherefor the overall is O(1+n^2), which is O(n^2)\\n\\n'"
      ]
     },
     "execution_count": 25,
     "metadata": {},
     "output_type": "execute_result"
    }
   ],
   "source": [
    "#--------------R3-25-------------------------\n",
    "\"\"\"\n",
    "The initial steps are O(1)\n",
    "\n",
    "The outer loop is called (n) times\n",
    "    The inner loop is called between 1-n times\n",
    "        Each inner loop action is O(1)\n",
    "The overall number of calls is 2, 3, 4, 5, ....n = (n)(n+1)/2 - 1, which is O(n^2)\n",
    "\n",
    "Therefor the overall is O(1+n^2), which is O(n^2)\n",
    "\n",
    "\"\"\""
   ]
  },
  {
   "cell_type": "code",
   "execution_count": 26,
   "metadata": {},
   "outputs": [
    {
     "data": {
      "text/plain": [
       "'\\nInitial is O(1)\\n\\nThe loop is called n times:\\n    each call uses O(1)\\nTherefore total is O(n)\\n\\nreturn is O(1)\\n\\nTotal is O(1+n+1) = O(n)\\n\\n\\n'"
      ]
     },
     "execution_count": 26,
     "metadata": {},
     "output_type": "execute_result"
    }
   ],
   "source": [
    "#--------------R3-26-------------------------\n",
    "\"\"\"\n",
    "Initial is O(1)\n",
    "\n",
    "The loop is called n times:\n",
    "    each call uses O(1)\n",
    "Therefore total is O(n)\n",
    "\n",
    "return is O(1)\n",
    "\n",
    "Total is O(1+n+1) = O(n)\n",
    "\n",
    "\n",
    "\"\"\""
   ]
  },
  {
   "cell_type": "code",
   "execution_count": 27,
   "metadata": {},
   "outputs": [
    {
     "data": {
      "text/plain": [
       "'\\nInitial is O(1)\\n\\nOuter Loop has n calls\\n    Inner two loops have O(n^2 calls) (see R3-25)\\n    \\nFinal is O(1)\\n\\nTherefore O(1+ n*n^2 + 1) = O(n^3)\\n\\n'"
      ]
     },
     "execution_count": 27,
     "metadata": {},
     "output_type": "execute_result"
    }
   ],
   "source": [
    "#-------------R3-27------------------\n",
    "\"\"\"\n",
    "Initial is O(1)\n",
    "\n",
    "Outer Loop has n calls\n",
    "    Inner two loops have O(n^2 calls) (see R3-25)\n",
    "    \n",
    "Final is O(1)\n",
    "\n",
    "Therefore O(1+ n*n^2 + 1) = O(n^3)\n",
    "\n",
    "\"\"\""
   ]
  },
  {
   "cell_type": "code",
   "execution_count": 28,
   "metadata": {},
   "outputs": [
    {
     "data": {
      "text/html": [
       "<div>\n",
       "<style scoped>\n",
       "    .dataframe tbody tr th:only-of-type {\n",
       "        vertical-align: middle;\n",
       "    }\n",
       "\n",
       "    .dataframe tbody tr th {\n",
       "        vertical-align: top;\n",
       "    }\n",
       "\n",
       "    .dataframe thead th {\n",
       "        text-align: right;\n",
       "    }\n",
       "</style>\n",
       "<table border=\"1\" class=\"dataframe\">\n",
       "  <thead>\n",
       "    <tr style=\"text-align: right;\">\n",
       "      <th></th>\n",
       "      <th>seconds</th>\n",
       "      <th>hours</th>\n",
       "    </tr>\n",
       "  </thead>\n",
       "  <tbody>\n",
       "    <tr>\n",
       "      <th>logn</th>\n",
       "      <td>inf</td>\n",
       "      <td>NaN</td>\n",
       "    </tr>\n",
       "    <tr>\n",
       "      <th>n</th>\n",
       "      <td>1e+07</td>\n",
       "      <td>3.6e+10</td>\n",
       "    </tr>\n",
       "    <tr>\n",
       "      <th>nlogn</th>\n",
       "      <td>87847</td>\n",
       "      <td>316249200</td>\n",
       "    </tr>\n",
       "    <tr>\n",
       "      <th>n2</th>\n",
       "      <td>3162.28</td>\n",
       "      <td>189737</td>\n",
       "    </tr>\n",
       "    <tr>\n",
       "      <th>2n</th>\n",
       "      <td>23.2535</td>\n",
       "      <td>35.0673</td>\n",
       "    </tr>\n",
       "  </tbody>\n",
       "</table>\n",
       "</div>"
      ],
      "text/plain": [
       "       seconds      hours\n",
       "logn       inf        NaN\n",
       "n        1e+07    3.6e+10\n",
       "nlogn    87847  316249200\n",
       "n2     3162.28     189737\n",
       "2n     23.2535    35.0673"
      ]
     },
     "execution_count": 28,
     "metadata": {},
     "output_type": "execute_result"
    }
   ],
   "source": [
    "#------------R3-28--------------\n",
    "import pandas as pd\n",
    "import math\n",
    "\n",
    "#Note, some of these calculations are too large for the computer to handle so I limited it to \n",
    "\n",
    "\n",
    "\n",
    "second = 10e6\n",
    "rel_lengths = [1, 60*60]\n",
    "\n",
    "x = [second*x for x in rel_lengths]\n",
    "functions = [lambda x: 0, #lambda x: 2**x,\n",
    "             lambda x: x,\n",
    "             lambda x: 0,  #This one can't be solved easily...\n",
    "             lambda x: x**(0.5),\n",
    "             lambda x: math.log(x, 2)\n",
    "            ]\n",
    "\n",
    "\n",
    "\n",
    "names = ['logn', 'n', 'nlogn', 'n2', '2n']\n",
    "\n",
    "df = pd.DataFrame(columns = ['seconds','hours'])\n",
    "\n",
    "\n",
    "for i in range(len(functions)):\n",
    "    inp = list(map(functions[i], x))\n",
    "    #print(inp)\n",
    "    df.loc[names[i]] = inp \n",
    "\n",
    "df.loc[names[0]] = [10e3000, np.nan]\n",
    "\n",
    "df.loc[names[2]] = [87847*x for x in rel_lengths]\n",
    "df"
   ]
  },
  {
   "cell_type": "code",
   "execution_count": 29,
   "metadata": {},
   "outputs": [
    {
     "data": {
      "text/plain": [
       "'\\nThey multiply, so it is O(nlogn)\\n\\n'"
      ]
     },
     "execution_count": 29,
     "metadata": {},
     "output_type": "execute_result"
    }
   ],
   "source": [
    "#-------------R3-29------------------------\n",
    "\"\"\"\n",
    "They multiply, so it is O(nlogn)\n",
    "\n",
    "\"\"\""
   ]
  },
  {
   "cell_type": "code",
   "execution_count": 30,
   "metadata": {},
   "outputs": [
    {
     "data": {
      "text/plain": [
       "'\\nYou are choosing log(n) elements, which each require O(n)\\n\\nOverall, it is also O(nlogn)\\n\\n\\n'"
      ]
     },
     "execution_count": 30,
     "metadata": {},
     "output_type": "execute_result"
    }
   ],
   "source": [
    "#-------------R3-30-----------------\n",
    "\"\"\"\n",
    "You are choosing log(n) elements, which each require O(n)\n",
    "\n",
    "Overall, it is also O(nlogn)\n",
    "\n",
    "\n",
    "\"\"\""
   ]
  },
  {
   "cell_type": "code",
   "execution_count": 31,
   "metadata": {},
   "outputs": [
    {
     "data": {
      "text/plain": [
       "'\\nYou are doing O(n) and O(logn), which is overall O(n)\\n\\nIf all entries are odd, your best case is O(logn)\\n\\nWorst case in O(n) if they are all odd\\n\\n'"
      ]
     },
     "execution_count": 31,
     "metadata": {},
     "output_type": "execute_result"
    }
   ],
   "source": [
    "#------------R3-31----------------\n",
    "\"\"\"\n",
    "You are doing O(n) and O(logn), which is overall O(n)\n",
    "\n",
    "If all entries are odd, your best case is O(logn)\n",
    "\n",
    "Worst case in O(n) if they are all odd\n",
    "\n",
    "\"\"\""
   ]
  },
  {
   "cell_type": "code",
   "execution_count": 32,
   "metadata": {},
   "outputs": [
    {
     "data": {
      "text/plain": [
       "'\\nAlgorithm D is calls Algorithm E n times\\n\\nTherefore, the worst case runtime is O(D(n))*(O(i)), which seems to be O(n*1) = O(n) from the description\\n\\n'"
      ]
     },
     "execution_count": 32,
     "metadata": {},
     "output_type": "execute_result"
    }
   ],
   "source": [
    "#--------------R3-32---------------\n",
    "\"\"\"\n",
    "Algorithm D is calls Algorithm E n times\n",
    "\n",
    "Therefore, the worst case runtime is O(D(n))*(O(i)), which seems to be O(n*1) = O(n) from the description\n",
    "\n",
    "\"\"\""
   ]
  },
  {
   "cell_type": "code",
   "execution_count": 33,
   "metadata": {},
   "outputs": [
    {
     "name": "stdout",
     "output_type": "stream",
     "text": [
      "15.05149978319906\n"
     ]
    }
   ],
   "source": [
    "#--------------R3-33------------------\n",
    "\"\"\"\n",
    "O notation means that there is a constant C such that f(n) < Cg(n)\n",
    "\n",
    "Therefore, if Al's algorithms performs better than A(nlogn) and Bob's algoriothm performs better that B(n^2), \n",
    "we can solve for the value where Anlogn = Bn^2, which we know is true when n=100.  This means that \n",
    "(A/B) = (100)/(log(100)) = 15.05 (see below)\n",
    "\n",
    "That means that Al's runtime on a single iteration is 15 times slower, but since he performs fewer operations overall, he\n",
    "starts to perform better at large values of n\n",
    "\n",
    "\"\"\"\n",
    "import math\n",
    "print(100/math.log(100, 2))"
   ]
  },
  {
   "cell_type": "code",
   "execution_count": 34,
   "metadata": {},
   "outputs": [
    {
     "name": "stdout",
     "output_type": "stream",
     "text": [
      "9.210340371976184\n",
      "0.0\n"
     ]
    },
    {
     "data": {
      "image/png": "[encoded data removed]",
      "text/plain": [
       "<Figure size 432x288 with 1 Axes>"
      ]
     },
     "metadata": {},
     "output_type": "display_data"
    }
   ],
   "source": [
    "#-------------R3-34----------------------\n",
    "\"\"\"\n",
    "If you are visiting a new restaurant, the chance that you will enjoy the meal is 1/j, where j is the total number of \n",
    "restaurants that  you have visited so far (including that one)\n",
    "\n",
    "Therefore, the expected number of meals you will enjoy is the sum of (1/j) for j=1-number_of_restaurant\n",
    "\n",
    "From calculus, the integral of 1/x is ln(x), so for 10,000 meals, the average will be ln(10,000) - ln(1) = 9.2 restaurants\n",
    "\n",
    "\"\"\"\n",
    "import math\n",
    "import matplotlib.pyplot as plt\n",
    "\n",
    "print(math.log(10000, math.e))\n",
    "print(math.log(1, math.e))  #This is trivial\n",
    "\n",
    "\n",
    "x = list(range(1, 10000))\n",
    "y = list(map(lambda x: math.log(x, math.e), x))\n",
    "plt.plot(x, y)\n",
    "plt.xlabel('Total Restaurants')\n",
    "plt.ylabel('Enjoyed Restaurants')\n",
    "plt.show()"
   ]
  },
  {
   "cell_type": "markdown",
   "metadata": {},
   "source": [
    "## Creativity"
   ]
  },
  {
   "cell_type": "code",
   "execution_count": 35,
   "metadata": {},
   "outputs": [
    {
     "data": {
      "text/plain": [
       "'\\nIf you sort each set, it will take O(nlogn)*3 time, which is still O(nlogn).\\n\\nOnce you have the sequences sorted, you can move along each sequence with indices i, j and k.  \\nAt each iteration, either choose the biggest value from the current positions, or repeat the process with the \\nremaining two indices until they are all equal or greater to that biggest value and start again.  At each step, check\\nif the values are the same and return False if they are.  If you make it to the end, return true\\n\\nSince you are traversing each index once, this part will be done in O(n) time, so the overall is \\nO(nlogn + n), which is O(nlogn) still\\n\\n\\n'"
      ]
     },
     "execution_count": 35,
     "metadata": {},
     "output_type": "execute_result"
    }
   ],
   "source": [
    "#----------C3-35--------------\n",
    "\"\"\"\n",
    "If you sort each set, it will take O(nlogn)*3 time, which is still O(nlogn).\n",
    "\n",
    "Once you have the sequences sorted, you can move along each sequence with indices i, j and k.  \n",
    "At each iteration, either choose the biggest value from the current positions, or repeat the process with the \n",
    "remaining two indices until they are all equal or greater to that biggest value and start again.  At each step, check\n",
    "if the values are the same and return False if they are.  If you make it to the end, return true\n",
    "\n",
    "Since you are traversing each index once, this part will be done in O(n) time, so the overall is \n",
    "O(nlogn + n), which is O(nlogn) still\n",
    "\n",
    "\n",
    "\"\"\""
   ]
  },
  {
   "cell_type": "code",
   "execution_count": 36,
   "metadata": {},
   "outputs": [
    {
     "name": "stdout",
     "output_type": "stream",
     "text": [
      "[3, 4, 4, 4, 5, 5, 6, 7, 7, 65]\n",
      "[42, 68, 72, 74, 74, 80, 82, 82, 84, 84]\n",
      "[1, 2, 3, 5, 4]\n"
     ]
    }
   ],
   "source": [
    "#------------C3-36--------------\n",
    "\"\"\"\n",
    "One possibility is to sort the array first O(nlogn) and then choose the last 10 value\n",
    "\n",
    "This would be O(nlogn)\n",
    "\n",
    "\"\"\"\n",
    "\n",
    "def last_10(array):\n",
    "    if len(array)>=10:   return sorted(array)[-10:]\n",
    "    else: return array\n",
    "\n",
    "    \n",
    "print(last_10([1,2,3,4,5,6,7,4,3,2,65,7,5,4]))\n",
    "print(last_10([x^2+3*x for x in range(30)]))\n",
    "print(last_10([1,2,3,5,4]))\n",
    "\n"
   ]
  },
  {
   "cell_type": "code",
   "execution_count": 37,
   "metadata": {},
   "outputs": [
    {
     "data": {
      "text/plain": [
       "[<matplotlib.lines.Line2D at 0x2478115f160>]"
      ]
     },
     "execution_count": 37,
     "metadata": {},
     "output_type": "execute_result"
    },
    {
     "data": {
      "image/png": "[encoded data removed]",
      "text/plain": [
       "<Figure size 432x288 with 1 Axes>"
      ]
     },
     "metadata": {},
     "output_type": "display_data"
    }
   ],
   "source": [
    "#-------------C3-37------------------\n",
    "\"\"\"\n",
    "An increasing oscillating function like x^2(cos(x)+1) would always be positive but neighter bounded by O(n) or Omega(n) \n",
    "\n",
    "It would be bounded by O(n^2) though in this case for C = 2\n",
    "\n",
    "\"\"\"\n",
    "import matplotlib.pyplot as plt\n",
    "import math\n",
    "\n",
    "x = list(range(100))\n",
    "y = list(map(lambda x: x**2*(1+math.cos(x)), x))\n",
    "plt.plot(x, y)"
   ]
  },
  {
   "cell_type": "code",
   "execution_count": 38,
   "metadata": {},
   "outputs": [
    {
     "data": {
      "text/plain": [
       "'\\nNote: the question is not asking whether computing this sum is O(n), it is saying that the result of the expression is O(n)\\n\\nsum(i**2) = sum ((i-1)**2) + i**2\\n\\nIf sum((i-1)**2) is less than i * (i**2), then sum ((i-1)**2) + i**2 < i*i**2 + i**2 < O(i^3)\\nIn other words, 1^2 + 2^2 + ... (n-1)^2 < n^2 + n^2 + n^2 ..... n^2\\n\\nFor i = 2, 1 + 4 < 9 + 9\\nfor i = 3, 1 + 4 + 9 < 16*3\\n\\nTherefore, since this is true for the first few iterations, it is true by induction\\n\\n\\n\\n'"
      ]
     },
     "execution_count": 38,
     "metadata": {},
     "output_type": "execute_result"
    }
   ],
   "source": [
    "#-----------------C3-38--------------------\n",
    "\"\"\"\n",
    "Note: the question is not asking whether computing this sum is O(n), it is saying that the result of the expression is O(n)\n",
    "\n",
    "sum(i**2) = sum ((i-1)**2) + i**2\n",
    "\n",
    "If sum((i-1)**2) is less than i * (i**2), then sum ((i-1)**2) + i**2 < i*i**2 + i**2 < O(i^3)\n",
    "In other words, 1^2 + 2^2 + ... (n-1)^2 < n^2 + n^2 + n^2 ..... n^2\n",
    "\n",
    "For i = 2, 1 + 4 < 9 + 9\n",
    "for i = 3, 1 + 4 + 9 < 16*3\n",
    "\n",
    "Therefore, since this is true for the first few iterations, it is true by induction\n",
    "\n",
    "\n",
    "\n",
    "\"\"\""
   ]
  },
  {
   "cell_type": "code",
   "execution_count": 39,
   "metadata": {},
   "outputs": [
    {
     "data": {
      "text/plain": [
       "\"\\nWith some mental gymnastics, we can see that it's possible to rewrite this as sum[k=0-n]( sum[i=k to n]((1/2)*(i)))\\n\\nFor this inner sum, we know that the geometric sum is the geometric sum from 1 to n minus the geometric sum from 1 to k:\\n\\nThe formula is (1/2)*(1-(1/2)**i)/(1-1/2), which means the overall sum is:\\n\\n[1-0.5**i - 1 + 0.5**k], which is consistenly less than 0.5**k since 0.5**i is greater than zero.\\n\\nPutting this through the outer sum gives us:\\n\\n(1-0.5**k)/(1-0.5) = 2 - 0.5**k.  Since 0.5**k is also always above 0, this sum is <= 2\\n\\n\\n\""
      ]
     },
     "execution_count": 39,
     "metadata": {},
     "output_type": "execute_result"
    }
   ],
   "source": [
    "#--------------C3-39-------------------\n",
    "\"\"\"\n",
    "With some mental gymnastics, we can see that it's possible to rewrite this as sum[k=0-n]( sum[i=k to n]((1/2)*(i)))\n",
    "\n",
    "For this inner sum, we know that the geometric sum is the geometric sum from 1 to n minus the geometric sum from 1 to k:\n",
    "\n",
    "The formula is (1/2)*(1-(1/2)**i)/(1-1/2), which means the overall sum is:\n",
    "\n",
    "[1-0.5**i - 1 + 0.5**k], which is consistenly less than 0.5**k since 0.5**i is greater than zero.\n",
    "\n",
    "Putting this through the outer sum gives us:\n",
    "\n",
    "(1-0.5**k)/(1-0.5) = 2 - 0.5**k.  Since 0.5**k is also always above 0, this sum is <= 2\n",
    "\n",
    "\n",
    "\"\"\""
   ]
  },
  {
   "cell_type": "code",
   "execution_count": 40,
   "metadata": {},
   "outputs": [
    {
     "data": {
      "text/plain": [
       "'\\nfrom the log rules, logb(a) = log2(a)/log2(b), which means that there is a constant 1/log2(b) such that\\nlogb(n) = Clog(b), which satisfies the conditions of theta\\n\\n'"
      ]
     },
     "execution_count": 40,
     "metadata": {},
     "output_type": "execute_result"
    }
   ],
   "source": [
    "#----------C3-40----------------------\n",
    "\"\"\"\n",
    "from the log rules, logb(a) = log2(a)/log2(b), which means that there is a constant 1/log2(b) such that\n",
    "logb(n) = Clog(b), which satisfies the conditions of theta\n",
    "\n",
    "\"\"\""
   ]
  },
  {
   "cell_type": "code",
   "execution_count": 41,
   "metadata": {},
   "outputs": [
    {
     "name": "stdout",
     "output_type": "stream",
     "text": [
      "(0, 9) 14 15.0\n",
      "(0, 99999) 165534 150000.0\n"
     ]
    }
   ],
   "source": [
    "#------------C3-41-------------------\n",
    "\"\"\"\n",
    "If you could use 2n comparisons, it would be easy to just compare each number to both the min and max \n",
    "\n",
    "We could try short circuiting the loop by only checking max if the min comparison failed, but that would not be true in all cases\n",
    "(ex. if the array was reverse sorted).  You could hedge against that by randomizing or alternating which call was made first\n",
    "\n",
    "That would bring you to 3n/2 on average.\n",
    "\n",
    "\n",
    "The tournament method is the actual solution, but uses comparisons for array size, which might be considered cheating:\n",
    "\n",
    "\"\"\"\n",
    "\n",
    "#Note, we can count the number of calls using a class instead of a function\n",
    "\n",
    "class find_minmax():\n",
    "    def __init__(self):\n",
    "        self._count = 0\n",
    "    \n",
    "    def __call__(self, array):\n",
    "        if len(array) == 1:\n",
    "            return (array[0], array[0])\n",
    "        if len(array) == 2:\n",
    "            self._count += 1\n",
    "            if array[0] >= array[1]:return (array[1], array[0])\n",
    "            else: return (array[0], array[1])\n",
    "        else:\n",
    "            min1, max1 = self(array[:len(array)//2])\n",
    "            min2, max2 = self(array[len(array)//2:])\n",
    "            self._count += 2\n",
    "            return (min([min1, min2]), max([max1, max2])) #Could also just write this as a series of two comparisons\n",
    "\n",
    "        \n",
    "a = find_minmax()\n",
    "print(a(list(range(10))), a._count, 10*3/2)\n",
    "\n",
    "\n",
    "b = find_minmax()\n",
    "print(b(list(range(100000))), b._count, 100000*3/2)\n",
    "\n",
    "#Values are close but not exactly 3n/2 for higher numbers..."
   ]
  },
  {
   "cell_type": "code",
   "execution_count": 42,
   "metadata": {},
   "outputs": [
    {
     "data": {
      "text/plain": [
       "'\\nIf bob has n friends and they can visit at most i times, it is legal for all his friends to visit\\n(i-1) times.  Therefore he can only start to get suspicious if the counter is higher than n*(i-1)\\n\\nThe better question is: why is he putting these restrictions on his friends???\\n'"
      ]
     },
     "execution_count": 42,
     "metadata": {},
     "output_type": "execute_result"
    }
   ],
   "source": [
    "#--------------C3-42-----------------------------------\n",
    "\"\"\"\n",
    "If bob has n friends and they can visit at most i times, it is legal for all his friends to visit\n",
    "(i-1) times.  Therefore he can only start to get suspicious if the counter is higher than n*(i-1)\n",
    "\n",
    "The better question is: why is he putting these restrictions on his friends???\n",
    "\"\"\""
   ]
  },
  {
   "cell_type": "code",
   "execution_count": 43,
   "metadata": {},
   "outputs": [
    {
     "data": {
      "text/plain": [
       "'\\nTriangle Method:\\n\\nWhen n is odd, we can still draw the same line y = x and then sum up the n half blocks:\\n\\nsum = n*n/2 + n*(1*1/2) = (n^2 + n)/2 = n(n+1)/2\\n\\n\\n\\n\\nBox Method:\\n\\nFor odd numbers, just ignore the middle element and add it to the end so that you now have \\n\\n(n+1)*((n-1)/2) + (1*((n+1)/2))\\nwhich simplifies to (1/2)* ((n+1)n - (n+1) + (n+1)) = n(n+1)/2 as before\\n         ___\\n        |   |\\n   (n+1)|   |_\\n        |   | |\\n        |___|_| (n+1)/2\\n     (n-1)/2  1\\n\\n'"
      ]
     },
     "execution_count": 43,
     "metadata": {},
     "output_type": "execute_result"
    }
   ],
   "source": [
    "#-------------C3-43-----------------\n",
    "\"\"\"\n",
    "Triangle Method:\n",
    "\n",
    "When n is odd, we can still draw the same line y = x and then sum up the n half blocks:\n",
    "\n",
    "sum = n*n/2 + n*(1*1/2) = (n^2 + n)/2 = n(n+1)/2\n",
    "\n",
    "\n",
    "\n",
    "\n",
    "Box Method:\n",
    "\n",
    "For odd numbers, just ignore the middle element and add it to the end so that you now have \n",
    "\n",
    "(n+1)*((n-1)/2) + (1*((n+1)/2))\n",
    "which simplifies to (1/2)* ((n+1)n - (n+1) + (n+1)) = n(n+1)/2 as before\n",
    "         ___\n",
    "        |   |\n",
    "   (n+1)|   |_\n",
    "        |   | |\n",
    "        |___|_| (n+1)/2\n",
    "     (n-1)/2  1\n",
    "\n",
    "\"\"\""
   ]
  },
  {
   "cell_type": "code",
   "execution_count": 44,
   "metadata": {},
   "outputs": [
    {
     "data": {
      "text/plain": [
       "'\\nAn integer of up to 100 bits is 2^100 = 1.2e30\\n\\na) We know from before that you only have to check up to the square root of n, which is 1.13e15\\nIf each check takes 1 microsecond, it will take at least 1.13e9 seconds, which is over a billion seconds!\\nThat is approximately 32 years \\n\\nb) If the number of bytes to store r is logr/8+1, if we want to express it in terms of n the answer would be \\nO(e^n)\\n\\n\\n\\n'"
      ]
     },
     "execution_count": 44,
     "metadata": {},
     "output_type": "execute_result"
    }
   ],
   "source": [
    "#------------C3-44--------------------\n",
    "\"\"\"\n",
    "An integer of up to 100 bits is 2^100 = 1.2e30\n",
    "\n",
    "a) We know from before that you only have to check up to the square root of n, which is 1.13e15\n",
    "If each check takes 1 microsecond, it will take at least 1.13e9 seconds, which is over a billion seconds!\n",
    "That is approximately 32 years \n",
    "\n",
    "b) If the number of bytes to store r is logr/8+1, if we want to express it in terms of n the answer would be \n",
    "O(e^n)\n",
    "\n",
    "\n",
    "\n",
    "\"\"\""
   ]
  },
  {
   "cell_type": "code",
   "execution_count": 45,
   "metadata": {},
   "outputs": [
    {
     "data": {
      "text/plain": [
       "5"
      ]
     },
     "execution_count": 45,
     "metadata": {},
     "output_type": "execute_result"
    }
   ],
   "source": [
    "#-----------C3-45----------------------\n",
    "\"\"\"\n",
    "Since you can only use O(1) space, options like dictionaries are off limits since they would grow \n",
    "\n",
    "One option is to just multiply all the numbers from one set and then divide them by the other.  \n",
    "The remainder will be the missing number!! \n",
    "\n",
    "To account for the zero term, add one to all the numbers coming in, then subtract one before making your return\n",
    "\n",
    "\"\"\"\n",
    "def find_missing(S):\n",
    "    total_list = list(range(len(S)+1))\n",
    "    total = 1\n",
    "    for x in total_list:\n",
    "        total *= x+1\n",
    "        \n",
    "    for x in S:\n",
    "        total /= x+1\n",
    "        \n",
    "    return int(total-1)\n",
    "\n",
    "find_missing([0,1,2,3,4,6,7,8,9])\n",
    "\n"
   ]
  },
  {
   "cell_type": "code",
   "execution_count": 46,
   "metadata": {},
   "outputs": [
    {
     "data": {
      "text/plain": [
       "\"\\nSide note: Al has a lot of crazy claims!\\n\\nHe hasn't proven that if n is true, then n+1 is true.  He has instead shown that if n is true, n-1 is true \\nand started with n=1.  His claim is true for all 0<n<1, but not for all n>1\\n\\n\\n\""
      ]
     },
     "execution_count": 46,
     "metadata": {},
     "output_type": "execute_result"
    }
   ],
   "source": [
    "#------------C3-46-------------------\n",
    "\"\"\"\n",
    "Side note: Al has a lot of crazy claims!\n",
    "\n",
    "He hasn't proven that if n is true, then n+1 is true.  He has instead shown that if n is true, n-1 is true \n",
    "and started with n=1.  His claim is true for all 0<n<1, but not for all n>1\n",
    "\n",
    "\n",
    "\"\"\""
   ]
  },
  {
   "cell_type": "code",
   "execution_count": 47,
   "metadata": {},
   "outputs": [
    {
     "data": {
      "text/plain": [
       "'\\nBase case, 1 line will meet at 0 points\\n2 lines will meet at one point\\n\\nWhen you add a new line, it will meet with every other existing lines once given the constraints\\n\\nTherefore x(n) = (n-1) + x(n-1)\\n\\nwhich means that x(n) = (n-1) + (n-2) + (n-3) + .... + 1+ 0\\n\\nwhich is equal to sum[0 to n-1](n)\\n\\n\\n\\nThis is a geometric series whose solution is (a)(a+1)/2, where a in this case is n-1\\n\\nThis grows at the same rate as Theta(n^2)\\n\\n\\n'"
      ]
     },
     "execution_count": 47,
     "metadata": {},
     "output_type": "execute_result"
    }
   ],
   "source": [
    "#-----------C3-47--------------------\n",
    "\"\"\"\n",
    "Base case, 1 line will meet at 0 points\n",
    "2 lines will meet at one point\n",
    "\n",
    "When you add a new line, it will meet with every other existing lines once given the constraints\n",
    "\n",
    "Therefore x(n) = (n-1) + x(n-1)\n",
    "\n",
    "which means that x(n) = (n-1) + (n-2) + (n-3) + .... + 1+ 0\n",
    "\n",
    "which is equal to sum[0 to n-1](n)\n",
    "\n",
    "\n",
    "\n",
    "This is a geometric series whose solution is (a)(a+1)/2, where a in this case is n-1\n",
    "\n",
    "This grows at the same rate as Theta(n^2)\n",
    "\n",
    "\n",
    "\"\"\""
   ]
  },
  {
   "cell_type": "code",
   "execution_count": 48,
   "metadata": {},
   "outputs": [
    {
     "data": {
      "text/plain": [
       "\"\\nThis justification mixes up the 'n' as an actual number and 'n' as a representation of the nth number.\\n\\nAs used in the example (as a number of calls), the justification is correct\\n\\nHowever, in terms of the actual value itself, the justification is not correct.\\n\\n\\nAlternate answer:\\n\\nFor big O to be true, there must be a constant C such that d(n) <= Cf(n)\\n\\nFor this justification, C was chosen as 1\\n\\nTherefore, the proof should have been \\nF(1) = 1 <= 1n\\nF(2) = 2 <= 1n\\n\\nfor the induction step, \\nF(n) = F(n-1) + F(n-2) = 1(n-1) + (n-2) = 2n-3, which is not <= 1n as before \\n\\n\\n\""
      ]
     },
     "execution_count": 48,
     "metadata": {},
     "output_type": "execute_result"
    }
   ],
   "source": [
    "#-----------C3-48---------------------\n",
    "\"\"\"\n",
    "This justification mixes up the 'n' as an actual number and 'n' as a representation of the nth number.\n",
    "\n",
    "As used in the example (as a number of calls), the justification is correct\n",
    "\n",
    "However, in terms of the actual value itself, the justification is not correct.\n",
    "\n",
    "\n",
    "Alternate answer:\n",
    "\n",
    "For big O to be true, there must be a constant C such that d(n) <= Cf(n)\n",
    "\n",
    "For this justification, C was chosen as 1\n",
    "\n",
    "Therefore, the proof should have been \n",
    "F(1) = 1 <= 1n\n",
    "F(2) = 2 <= 1n\n",
    "\n",
    "for the induction step, \n",
    "F(n) = F(n-1) + F(n-2) = 1(n-1) + (n-2) = 2n-3, which is not <= 1n as before \n",
    "\n",
    "\n",
    "\"\"\""
   ]
  },
  {
   "cell_type": "code",
   "execution_count": 49,
   "metadata": {},
   "outputs": [
    {
     "name": "stdout",
     "output_type": "stream",
     "text": [
      "1 1 1.5\n",
      "2 2 2.25\n",
      "3 3 3.375\n",
      "4 5 5.0625\n",
      "5 8 7.59375\n"
     ]
    }
   ],
   "source": [
    "#-------------C3-49--------------------\n",
    "\"\"\"\n",
    "The fibonacci sequence is : 1, 2, 3, 5, 8, 13, 21, 34, etc..\n",
    "The first few steps of the sequence are actually bigger than (3/2)**n, so we can't use them!\n",
    "THe first instance when this is true is for n = 5\n",
    "\n",
    "First step: F(5) = 8 >= (3/2)**5 = 7.59375\n",
    "Second Step: F(6) = 13 >= (3/2)**6 = 11.39\n",
    "\n",
    "Induction Step: F(n) = F(n-1) + F(n-2) > (3/2)^(n-1) + (3/2)^(n-2) >? (3/2)^n\n",
    "\n",
    "((3/2)+1)*(3/2)**(n-2) = (7/2)(3/2)**(n-2) = (1.5555)(3/2)**n\n",
    "\n",
    "Since (1.555)x > x, we have proved that F(n) >= (3/2)^n for all values greater than 5, which\n",
    "satisfies the constraints of Omega\n",
    "\n",
    "\n",
    "\"\"\"\n",
    "def output_fibbo():\n",
    "    smaller = True\n",
    "    F0 = 0\n",
    "    F1 = 1\n",
    "    power = 1\n",
    "    counter = 0\n",
    "    while F1 <= power:\n",
    "        counter += 1\n",
    "        F1, F0 = F1+F0, F1\n",
    "        power *= (3/2)\n",
    "        print (counter, F1, power)\n",
    "        \n",
    "        \n",
    "output_fibbo()\n",
    "        \n"
   ]
  },
  {
   "cell_type": "code",
   "execution_count": 50,
   "metadata": {},
   "outputs": [
    {
     "data": {
      "text/plain": [
       "86"
      ]
     },
     "execution_count": 50,
     "metadata": {},
     "output_type": "execute_result"
    }
   ],
   "source": [
    "#--------------C3-50---------------------\n",
    "\"\"\"\n",
    "a)\n",
    "Loop from 0 to n as i\n",
    "    Loop from 0 to i, calculating the value of xi as ai*=x\n",
    "    \n",
    "This would take n*(n+1)/2 or O(n**2)\n",
    "\n",
    "In other words, every time we increase n, we have to do one extra addition and n multiplications, \n",
    "which means we have an arithmetically increasing sum that \n",
    "\n",
    "\n",
    "b) If you kept a running total of x, you would just need to multiply it again to get the new value of x**i\n",
    "since x**i = x**(i-1)*x\n",
    "\n",
    "\n",
    "So for each step, you say: \n",
    "\n",
    "x = 1\n",
    "\n",
    "for a in polynomials:\n",
    "    total += a*(x_total)\n",
    "    x_total *= x\n",
    "\n",
    "return total\n",
    "\n",
    "This seems like it would only take O(n) time, so I'm not sure...\n",
    "\n",
    "\n",
    "c) Using horner's method, we only need O(n) multiplications and O(n) additions\n",
    "\n",
    "\"\"\"\n",
    "\n",
    "def polynomial(x, coefficients):\n",
    "    x_tot = 1\n",
    "    total = 0\n",
    "    for a in coefficients:\n",
    "        total += a*x_tot\n",
    "        x_tot *= x\n",
    "    return total\n",
    "\n",
    "\n",
    "polynomial(5, [1, 2, 3])\n"
   ]
  },
  {
   "cell_type": "code",
   "execution_count": 51,
   "metadata": {},
   "outputs": [
    {
     "data": {
      "text/plain": [
       "'\\nlog(a) + log(b) = log(a*b)\\n\\nTherefore sum(log(i)) is actually log(Prod(i))\\n\\nSince 1X2X3...n < n^n,  log(Prod(i)) < log(n^n) = nlogn\\n\\n\\n'"
      ]
     },
     "execution_count": 51,
     "metadata": {},
     "output_type": "execute_result"
    }
   ],
   "source": [
    "#---------------C3-51----------------\n",
    "\"\"\"\n",
    "log(a) + log(b) = log(a*b)\n",
    "\n",
    "Therefore sum(log(i)) is actually log(Prod(i))\n",
    "\n",
    "Since 1X2X3...n < n^n,  log(Prod(i)) < log(n^n) = nlogn\n",
    "\n",
    "\n",
    "\"\"\""
   ]
  },
  {
   "cell_type": "code",
   "execution_count": 52,
   "metadata": {},
   "outputs": [
    {
     "data": {
      "text/plain": [
       "'\\nFor this to be true, sum(log(i)) must be >= C*nlogn\\n\\nIn the second half of the series, each value is at least log(n/2) and the total value is greater than the sum from n/2 to n\\n\\nTherefore, sum(log(i)) >= sum[n/2 to n](log(n/2)) = (n/2)(log(n) - log(2)) which is O(nlogn)\\n\\nTherefore sum(log(i)) is Theta(nlogn) as well\\n\\n\\n'"
      ]
     },
     "execution_count": 52,
     "metadata": {},
     "output_type": "execute_result"
    }
   ],
   "source": [
    "#--------------C3-52-------------------\n",
    "\"\"\"\n",
    "For this to be true, sum(log(i)) must be >= C*nlogn\n",
    "\n",
    "In the second half of the series, each value is at least log(n/2) and the total value is greater than the sum from n/2 to n\n",
    "\n",
    "Therefore, sum(log(i)) >= sum[n/2 to n](log(n/2)) = (n/2)(log(n) - log(2)) which is O(nlogn)\n",
    "\n",
    "Therefore sum(log(i)) is Theta(nlogn) as well\n",
    "\n",
    "\n",
    "\"\"\""
   ]
  },
  {
   "cell_type": "code",
   "execution_count": 53,
   "metadata": {},
   "outputs": [
    {
     "data": {
      "text/plain": [
       "'\\nSince the king has n bottles of wine, he can ask two taste testers to each sample half of his wine and see who dies\\n\\nEvery month, he has two more testers sample the poisoned half (while enjoying the non-poisoned half!) \\nand further split the set of target bottles\\n\\nIt will take log(n) splits to hone in on the bottle, using log(n) taste testers in the process (only one dies per round)\\n\\nTherefore, he expends O(logn) taste testers\\n\\n\\nSide Note: What makes him an evil king and why are we trying to protect him?\\n\\n'"
      ]
     },
     "execution_count": 53,
     "metadata": {},
     "output_type": "execute_result"
    }
   ],
   "source": [
    "#--------------C3-53----------------------\n",
    "\"\"\"\n",
    "Since the king has n bottles of wine, he can ask two taste testers to each sample half of his wine and see who dies\n",
    "\n",
    "Every month, he has two more testers sample the poisoned half (while enjoying the non-poisoned half!) \n",
    "and further split the set of target bottles\n",
    "\n",
    "It will take log(n) splits to hone in on the bottle, using log(n) taste testers in the process (only one dies per round)\n",
    "\n",
    "Therefore, he expends O(logn) taste testers\n",
    "\n",
    "\n",
    "Side Note: What makes him an evil king and why are we trying to protect him?\n",
    "\n",
    "\"\"\""
   ]
  },
  {
   "cell_type": "code",
   "execution_count": 54,
   "metadata": {},
   "outputs": [
    {
     "name": "stdout",
     "output_type": "stream",
     "text": [
      "[2559, 1283, 1894, 811, 1975, 1957, 703, 202, 3351, 1122, 235, 629, 2414, 3209, 3102, 1719, 1685, 2093, 3245, 611, 776, 2716, 1561, 2080, 3573, 1110, 3911, 2526, 3910, 1045, 2966, 3883, 1996, 2800, 2207, 2375, 1966, 3235, 1437, 2967, 1713, 1348, 111, 1166, 513, 518, 3847, 2542, 1137, 2507, 3711, 2161, 573, 3123, 143, 2247, 2894, 133, 3958, 2305, 2504, 40, 2181, 3774, 3029, 487, 2784, 3164, 11, 3642, 3628, 3848, 2234, 3711, 3718, 3821, 2735, 2936, 304, 2044, 3662, 3688, 775, 2265, 967, 1127, 1428, 1037, 708, 1179, 276, 1402, 3839, 2535, 1407, 2821, 1684, 780, 541, 2074, 2052, 1090, 2638, 254, 1803, 810, 2127, 573, 2061, 2345, 864, 527, 3433, 667, 634, 1760, 2606, 3780, 3931, 663, 2689, 1921, 1284, 1191, 2322, 995, 3618, 782, 1301, 3108, 3534, 520, 1381, 2121, 1085, 527, 2455, 2742, 851, 3180, 3649, 1382, 1584, 2180, 2906, 619, 895, 327, 1961, 3554, 639, 1392, 1734, 3008, 3753, 2910, 3827, 3264, 3665, 2555, 3687, 3638, 3394, 3724, 559, 2935, 2294, 1246, 958, 3171, 601, 3067, 1023, 3182, 1769, 1586, 1901, 2338, 1459, 2316, 2267, 1297, 2443, 3060, 849, 2790, 261, 377, 1013, 858, 605, 2324, 438, 2507, 1498, 1718, 3680, 1855, 2674, 1859, 1, 3194, 2001, 2713, 379, 1980, 2820, 736, 3653, 3622, 1572, 579, 3226, 2962, 2856, 322, 3821, 3522, 3140, 3032, 674, 969, 2606, 3282, 488, 2439, 2665, 759, 1865, 62, 1026, 1893, 2144, 722, 2146, 1023, 2941, 1408, 92, 3560, 1589, 556, 3463, 483, 3777, 1898, 1035, 3808, 1205, 3172, 1659, 3794, 3214, 531, 610, 2967, 2183, 1039, 213, 1073, 2981, 426, 90, 2743, 1859, 3714, 1564, 3822, 467, 367, 1177, 3243, 901, 2296, 3728, 2726, 3177, 1085, 302, 2354, 2782, 3494, 946, 1035, 191, 3876, 2673, 2490, 2183, 3067, 1736, 125, 2065, 980, 3355, 2978, 1400, 135, 2793, 2730, 149, 1029, 638, 2465, 3051, 1833, 3403, 733, 3063, 2133, 1350, 125, 1098, 1767, 902, 860, 2427, 2398, 1475, 3153, 510, 890, 273, 1680, 185, 1047, 1555, 1498, 3521, 3035, 2849, 3843, 3483, 718, 2278, 145, 3094, 2791, 2430, 1792, 1767, 28, 3263, 2125, 19, 3354, 1104, 1077, 1738, 1204, 1815, 1919, 3638, 2015, 132, 1809, 1755, 3524, 513, 3228, 3613, 809, 209, 347, 2398, 889, 3668, 2308, 1126, 2076, 2962, 2001, 2060, 1464, 3934, 942, 1664, 1532, 1587, 1833, 3389, 9, 435, 3536, 3893, 888, 2948, 3788, 3300, 786, 2634, 634, 381, 2942, 3307, 1571, 3214, 1006, 3507, 3289, 436, 260, 2839, 2278, 3380, 546, 1682, 2872, 1889, 344, 2844, 3843, 933, 3358, 790, 91, 3338, 2499, 2226, 2602, 897, 668, 921, 245, 3007, 2521, 2505, 2948, 1897, 1195, 1167, 2098, 918, 8, 3417, 2965, 1395, 2763, 2686, 1171, 1336, 188, 823, 2320, 1992, 2825, 780, 3745, 3810, 233, 1546, 525, 45, 2756, 3429, 3426, 3231, 2623, 1539, 1537, 1484, 2501, 458, 3636, 3615, 3164, 1214, 101, 3764, 1735, 2747, 3012, 2178, 203, 1888, 3903, 553, 2461, 257, 1272, 554, 998, 2666, 3075, 187, 3778, 2024, 922, 1523, 2977, 3011, 104, 3551, 2477, 450, 3739, 525, 35, 2311, 1308, 635, 1998, 3872, 3299, 1769, 2896, 341, 3761, 2719, 1235, 37, 1369, 2887, 3071, 2971, 1075, 1950, 1094, 180, 1029, 2183, 1454, 593, 2178, 804, 2345, 291, 2141, 2022, 382, 3449, 3057, 3315, 2727, 1794, 1300, 2281, 838, 3645, 3038, 1979, 727, 2094, 1326, 1508, 2486, 3215, 1929, 2154, 2781, 964, 3918, 2806, 3371, 1280, 3750, 3577, 2517, 591, 950, 3879, 3136, 1105, 3225, 3135, 1014, 821, 1209, 711, 2498, 1214, 1279, 3052, 180, 1537, 3467, 3508, 653, 7, 2291, 3238, 3228, 2177, 214, 2268, 2885, 101, 3172, 2675, 1330, 3807, 3152, 307, 977, 1228, 826, 3262, 3456, 2586, 2309, 3943, 1307, 1215, 480, 1250, 3188, 1216, 1473, 186, 136, 1125, 1656, 1704, 2788, 1642, 1091, 2303, 2262, 335, 1009, 3859, 3271, 1463, 1490, 1575, 3423, 1713, 2264, 2145, 773, 3214, 2047, 2898, 1569, 1530, 1684, 2278, 71, 314, 2149, 3184, 1227, 2753, 1573, 2799, 1745, 3078, 2885, 3272, 44, 3473, 101, 2875, 2408, 771, 1154, 2012, 2610, 356, 2787, 1288, 597, 3052, 385, 1467, 3185, 1463, 3173, 1545, 1561, 3428, 3354, 795, 1155, 3538, 1324, 3528, 3408, 3218, 2498, 2578, 3715, 2482, 1053, 2611, 2894, 2053, 1324, 931, 3053, 208, 3934, 3501, 3609, 3314, 1628, 650, 2878, 198, 3583, 1299, 3320, 1708, 1700, 2198, 2422, 1683, 1041, 3729, 1499, 52, 1921, 3925, 1064, 2431, 1205, 2751, 3114, 382, 357, 2529, 2995, 3747, 973, 2093, 46, 2450, 3158, 1016, 1802, 3346, 2265, 1130, 1, 180, 3178, 832, 3712, 37, 3469, 2380, 3461, 2240, 353, 353, 3974, 951, 2748, 3866, 2997, 2555, 909, 565, 164, 2075, 2543, 3531, 1234, 3089, 1616, 156, 59, 3273, 291, 3124, 2137, 2409, 3257, 1248, 1628, 638, 1322, 3768, 411, 1418, 2377, 3894, 3884, 2491, 3081, 3925, 2645, 400, 1394, 2038, 2421, 3208, 147, 1110, 1160, 3316, 2242, 3943, 3716, 3579, 2756, 1237, 3828, 743, 1493, 621, 3897, 354, 1180, 1093, 1568, 1055, 1938, 266, 3210, 1969, 3001, 510, 3824, 1909, 654, 3694, 2302, 530, 3257, 3753, 33, 565, 1879, 1570, 664, 449, 949, 74, 2288, 3419, 285, 211, 2185, 2342, 3166, 958, 1562, 3662, 1678, 3373, 2662, 3534, 1765, 1149, 1351, 2845, 2525, 2380, 1618, 2066, 641, 3426, 94, 2755, 1461, 1326, 2803, 2434, 3785, 2801, 3237, 3145, 1280, 899, 2691, 1527, 2848, 2528, 357, 1441, 3261, 1238, 990, 659, 1645, 1405, 1827, 775, 2252, 1232, 1981, 3875, 1576, 572, 3611, 3098, 1551, 1007, 3785, 1989, 2928, 1905, 1905, 100, 890, 1585, 352, 1487, 2493, 3969, 2426, 2397, 3869, 732, 415, 2310, 2577, 3010, 3317, 1881, 868, 3841, 1797, 3644, 2280, 1937, 3405, 1322, 3244, 3131, 719, 2653, 2151, 3797, 221, 3036, 2408, 1889, 1883, 2248, 2171, 2061, 345, 3206, 2694, 3394, 2643, 512, 129, 3930, 2212, 1566, 2241, 763, 1663, 3028, 965, 2021, 3250, 1302, 2726, 517, 3303, 36, 2222, 1473, 3932, 3002, 2526, 2874, 1973, 1107, 1432, 3811, 363, 2129, 3359, 1762, 2484, 468, 1767, 3614, 3283, 3119, 926, 1033, 524, 759, 1447, 3652, 575, 3636, 1359, 2002, 989, 2009, 3130, 1486, 3344, 1743, 3273, 961, 3429, 518, 637, 366, 1988, 1142, 2619]\n",
      "1767 3\n"
     ]
    },
    {
     "data": {
      "text/plain": [
       "1767"
      ]
     },
     "execution_count": 54,
     "metadata": {},
     "output_type": "execute_result"
    }
   ],
   "source": [
    "#---------------C3-54------------------------------\n",
    "\"\"\"\n",
    "The algorithm below works in O(n) time, but uses O(n) space as well\n",
    "\n",
    "\"\"\"\n",
    "\n",
    "import random\n",
    "\n",
    "def find_most_frequent(n):\n",
    "    S = []\n",
    "    for _ in range(n):\n",
    "        S.append(random.randint(0, 4*n-1))\n",
    "        \n",
    "    print (S)\n",
    "    \n",
    "    \n",
    "    counts = [0]*(4*n)\n",
    "    max_int = 0\n",
    "    for num in S:\n",
    "        counts[num] += 1\n",
    "        if counts[num] >= counts[max_int]:\n",
    "            max_int = num\n",
    "    \n",
    "    print(max_int, counts[max_int])\n",
    "    if counts[max_int] == 1: return False\n",
    "    else: return max_int\n",
    "\n",
    "\n",
    "find_most_frequent(1000)\n",
    "    "
   ]
  },
  {
   "cell_type": "markdown",
   "metadata": {},
   "source": [
    "## Projects"
   ]
  },
  {
   "cell_type": "code",
   "execution_count": 55,
   "metadata": {},
   "outputs": [
    {
     "name": "stdout",
     "output_type": "stream",
     "text": [
      "Total time is  0.0\n",
      "Total time is  0.004987001419067383\n",
      "Total time is  0.4443342685699463\n",
      "Total time is  45.813387632369995\n",
      "Total time is  0.0\n",
      "Total time is  0.000997781753540039\n",
      "Total time is  0.07081055641174316\n",
      "Total time is  6.9405601024627686\n",
      "Total time is  0.0\n",
      "Total time is  0.0\n",
      "Total time is  0.001994609832763672\n",
      "Total time is  0.021941184997558594\n"
     ]
    },
    {
     "data": {
      "image/png": "[encoded data removed]",
      "text/plain": [
       "<Figure size 432x288 with 1 Axes>"
      ]
     },
     "metadata": {},
     "output_type": "display_data"
    }
   ],
   "source": [
    "#--------------P3-57----------\n",
    "\"\"\"\n",
    "Note, I'm practicing the use of decorators here, you can replace the decorators\n",
    "by adding the before = time() and after = time() in the main functions to get the same behaviour\n",
    "\n",
    "Side Note: I only tested up to 1e5 for timing reasons, feel free to increase n if you want, but note that it\n",
    "takes 100x as long for each n added\n",
    "\"\"\"\n",
    "import time\n",
    "import matplotlib.pyplot as plt \n",
    "\n",
    "class Prefix():\n",
    "    def __init__(self):\n",
    "        self._timer_array = []\n",
    "\n",
    "\n",
    "    def timer(func):\n",
    "        def wrapper(*args, **kwargs):\n",
    "            before = time.time()\n",
    "            for _ in range(20):\n",
    "                func(*args, **kwargs)\n",
    "            after = time.time()\n",
    "            args[0]._timer_array.append((after-before)*100000)  #Note, since the first argument is self, this is how we access self\n",
    "            print ('Total time is ', after-before)\n",
    "        return wrapper\n",
    "            \n",
    "        \n",
    "    @timer\n",
    "    def prefix_average1(self, S):\n",
    "        n = len(S)\n",
    "        A = [0]*n\n",
    "        for j in range(n):\n",
    "            total = 0\n",
    "            for i in range(j+1):\n",
    "                total += S[i]\n",
    "            A[j] = total/(j+1)\n",
    "        return A\n",
    "\n",
    "    @timer\n",
    "    def prefix_average2(self, S):\n",
    "        n = len(S)\n",
    "        A = [0]*n\n",
    "        for j in range(n):\n",
    "            A[j] = sum(S[0:j+1])/(j+1)\n",
    "        return A\n",
    "    \n",
    "    @timer\n",
    "    def prefix_average3(self, S):\n",
    "        n = len(S)\n",
    "        A = [0]*n\n",
    "        total = 0\n",
    "        for j in range(n):\n",
    "            total +=S[j]\n",
    "            A[j] = total/(j+1)\n",
    "        return A\n",
    "    \n",
    "    def _reset_timers(self):\n",
    "        self._timer_array = []\n",
    "        \n",
    "        \n",
    "    def test_timers(self, e_n = 5):\n",
    "        results = {}\n",
    "        for name, func in [('1',self.prefix_average1), ('2', self.prefix_average2), ('3', self.prefix_average3)]:\n",
    "            for i in range(1, e_n):\n",
    "                test_array = list(range(10**i))\n",
    "                func(test_array)\n",
    "            results[name] = self._timer_array\n",
    "            self._reset_timers()\n",
    "            \n",
    "        x = list(map(lambda x: 10**x, range(1, e_n)))\n",
    "        return x, results\n",
    "    \n",
    "    \n",
    "p = Prefix()\n",
    "x, results = p.test_timers(5)\n",
    "\n",
    "for f in results.values():\n",
    "    plt.plot(x, f)\n",
    "plt.xscale('log')\n",
    "plt.yscale('log')"
   ]
  },
  {
   "cell_type": "code",
   "execution_count": 56,
   "metadata": {},
   "outputs": [
    {
     "name": "stdout",
     "output_type": "stream",
     "text": [
      "Total time is  0.0\n",
      "Total time is  0.0\n",
      "Total time is  0.0009975433349609375\n",
      "Total time is  0.0\n",
      "Total time is  0.0\n",
      "Total time is  0.0\n",
      "Total time is  0.0\n",
      "Total time is  0.004987001419067383\n",
      "Total time is  0.4592781066894531\n",
      "Total time is  0.0\n",
      "Total time is  0.0\n",
      "Total time is  0.0009970664978027344\n",
      "Total time is  0.000997304916381836\n",
      "Total time is  0.49419593811035156\n",
      "Total time is  469.884886264801\n"
     ]
    },
    {
     "data": {
      "image/png": "[encoded data removed]",
      "text/plain": [
       "<Figure size 432x288 with 1 Axes>"
      ]
     },
     "metadata": {},
     "output_type": "display_data"
    }
   ],
   "source": [
    "#------------------P3-56--------------------\n",
    "#Note, I am subclassing Prefix so you have to run that cell first\n",
    "\n",
    "\"\"\"\n",
    "Note, I'm not worrying about the fact that some of the lower ones are 0.0 due to rounding since adding more tests\n",
    "would slow things down at higher values of n.\n",
    "\n",
    "This is why O(n^3) or O(n^2) are not desirable... they really explode as n gets large\n",
    "\n",
    "\"\"\"\n",
    "\n",
    "class SumTimer(Prefix):\n",
    "    def __init__(self):\n",
    "        super().__init__()\n",
    "        \n",
    "    def timer(func):\n",
    "        def wrapper(*args, **kwargs):\n",
    "            before = time.time()\n",
    "            for _ in range(20):\n",
    "                func(*args, **kwargs)\n",
    "            after = time.time()\n",
    "            args[0]._timer_array.append((after-before)*100000)  #Note, since the first argument is self, this is how we access self\n",
    "            print ('Total time is ', after-before)\n",
    "        return wrapper\n",
    "    \n",
    "    \n",
    "    @timer\n",
    "    def example1(self,S):\n",
    "        n = len(S)\n",
    "        total = 0\n",
    "        for j in range(n):\n",
    "            total+= S[j]\n",
    "        return total\n",
    "    \n",
    "    @timer\n",
    "    def example2(self, S):\n",
    "        n = len(S)\n",
    "        total = 0\n",
    "        for j in range(0, n, 2):\n",
    "            total += S[j]\n",
    "        return total\n",
    "    \n",
    "    @timer\n",
    "    def example3(self, S):\n",
    "        n = len(S)\n",
    "        total = 0\n",
    "        for j in range(n):\n",
    "            for k in range(1+j):\n",
    "                total += S[k]\n",
    "        return total\n",
    "    \n",
    "    @timer\n",
    "    def example4(self, S):\n",
    "        n = len(S)\n",
    "        prefix = 0\n",
    "        total = 0\n",
    "        for j in range(n):\n",
    "            prefix += S[j]\n",
    "            total += prefix\n",
    "        return total\n",
    "    \n",
    "    @timer\n",
    "    def example5(self, A,B):\n",
    "        n = len(A)\n",
    "        count = 0\n",
    "        for i in range(n):\n",
    "            total = 0\n",
    "            for j in range(n):\n",
    "                for k in range(1+j):\n",
    "                    total += A[k]\n",
    "            if B[i] == total:\n",
    "                count  += 1\n",
    "        return count\n",
    "    \n",
    "    \n",
    "    \n",
    "    def test_timers(self, e_n = 5):\n",
    "        results = {}\n",
    "        for name, func in [('1',self.example1), ('2', self.example2), ('3', self.example3), ('4', self.example4), ('5', self.example5)]:\n",
    "            for i in range(1, e_n):\n",
    "                test_array = list(range(10**i))\n",
    "                if name == '5': func(test_array, test_array)\n",
    "                else: func(test_array)\n",
    "            results[name] = self._timer_array\n",
    "            self._reset_timers()\n",
    "            \n",
    "        x = list(map(lambda x: 10**x, range(1, e_n)))\n",
    "        return x, results\n",
    "        \n",
    "        \n",
    "s = SumTimer()\n",
    "x, results = s.test_timers(4)  #Note, even at 4 it takes 454 seconds for the last step of example5.  Increase at your own risk!\n",
    "\n",
    "for f in results.values():\n",
    "    plt.plot(x, f)\n",
    "plt.xscale('log')\n",
    "plt.yscale('log')"
   ]
  },
  {
   "cell_type": "code",
   "execution_count": 57,
   "metadata": {},
   "outputs": [
    {
     "data": {
      "image/png": "[encoded data removed]",
      "text/plain": [
       "<Figure size 432x288 with 1 Axes>"
      ]
     },
     "metadata": {},
     "output_type": "display_data"
    },
    {
     "data": {
      "text/plain": [
       "'\\nConclusion: it actually performs better for the test cases that we have provided!\\n\\n'"
      ]
     },
     "execution_count": 57,
     "metadata": {},
     "output_type": "execute_result"
    }
   ],
   "source": [
    "#-----------P3-57----------------------\n",
    "\"\"\"\n",
    "Note, if the method really runs in nlogn time, the output 2^(time/n) should be linear\n",
    "\n",
    "Also note, n_e_max = 5 is already hard on my system so be careful.  It will take about 33 times as long as the\n",
    "previous for every n you add\n",
    "\"\"\"\n",
    "\n",
    "import random\n",
    "import time\n",
    "import matplotlib.pyplot as plt\n",
    "\n",
    "\n",
    "def test_sorted(n_e_max = 4, num_tests = 10000):\n",
    "    xs = [list(range(2**x)) for x in range(1, n_e_max)]\n",
    "    output_times = []\n",
    "    times = []\n",
    "    nlogns = []\n",
    "    for x in xs:      \n",
    "        random.shuffle(x)\n",
    "        before = time.time()\n",
    "        for _ in range(num_tests):\n",
    "            sorted(x)\n",
    "        after = time.time()\n",
    "        times.append(after-before)\n",
    "        nlogns.append(2**((after-before)/len(x)))\n",
    "    return (times, nlogns)\n",
    "    \n",
    "    \n",
    "    \n",
    "n_e_max = 15\n",
    "times, y = test_sorted(n_e_max)\n",
    "x = [2**x for x in range(1, n_e_max)]\n",
    "\n",
    "plt.plot(x, y)\n",
    "plt.show()\n",
    "\n",
    "\"\"\"\n",
    "Conclusion: it actually performs better for the test cases that we have provided!\n",
    "\n",
    "\"\"\""
   ]
  },
  {
   "cell_type": "code",
   "execution_count": 58,
   "metadata": {},
   "outputs": [
    {
     "name": "stdout",
     "output_type": "stream",
     "text": [
      "The total number of tests for Unique1 is 26910000 for n = 5\n",
      "The total number of tests for Unique2 is 73330000 for n = 5\n",
      "The total number of tests for Unique3 is 11050000 for n = 5\n"
     ]
    }
   ],
   "source": [
    "#---------P3-58---------------------\n",
    "import time\n",
    "\n",
    "class Unique():\n",
    "    NUM_TESTS_PER_TIMECHECK = 10000\n",
    "    def __init__(self):\n",
    "        pass\n",
    "    \n",
    "    def tests_per_minute(func):\n",
    "        def wrapper(*args, **kwargs):\n",
    "            total_time = 60  #For one minute\n",
    "            counter = 0\n",
    "            while total_time >= 0:\n",
    "                before = time.time()\n",
    "                for _ in range(args[0].NUM_TESTS_PER_TIMECHECK):\n",
    "                    out = func(*args, **kwargs)\n",
    "                after = time.time()\n",
    "                total_time -= after-before\n",
    "                counter += 1\n",
    "                #print (total_time)\n",
    "                \n",
    "            num_tests = counter * args[0].NUM_TESTS_PER_TIMECHECK\n",
    "            return  num_tests\n",
    "        return wrapper\n",
    "\n",
    "\n",
    "    @tests_per_minute\n",
    "    def unique1(self, S):\n",
    "        for j in range(len(S)):\n",
    "            for k in range(j+1, len(S)):\n",
    "                if S[j] == S[k]:\n",
    "                    return False\n",
    "        return True\n",
    "\n",
    "    @tests_per_minute\n",
    "    def unique2(self, S):\n",
    "        temp = sorted(S)\n",
    "        for j in range(1, len(temp)):\n",
    "            if S[j-1] == S[j]:\n",
    "                return False\n",
    "        return True\n",
    "\n",
    "    \n",
    "    #Note, we need this to prevent the decorator from calling itself infinitely\n",
    "    def uniquer(self, S, start = 0, stop = None):\n",
    "        if stop is None: stop = len(S)\n",
    "        if stop-start <= 1: return True\n",
    "        elif not self.uniquer(S, start, stop-1): return False\n",
    "        elif not self.uniquer(S, start+1, stop): return False\n",
    "        else: return S[start] != S[stop-1]\n",
    "    \n",
    "    #This is from the next chapter...\n",
    "    @tests_per_minute\n",
    "    def unique3(self, S, start = 0, stop = None):\n",
    "        if stop is None: stop = len(S)\n",
    "        if stop-start <= 1: return True\n",
    "        elif not self.uniquer(S, start, stop-1): return False\n",
    "        elif not self.uniquer(S, start+1, stop): return False\n",
    "        else: return S[start] != S[stop-1]\n",
    "        \n",
    "    def test_each_algo(self, n):\n",
    "        S = list(range(n))\n",
    "        num_tests = {}\n",
    "        for name, func in [('Unique1', self.unique1), ('Unique2', self.unique2), ('Unique3', self.unique3)]:\n",
    "            num = func(S)\n",
    "            num_tests[name] = num\n",
    "        return num_tests\n",
    "    \n",
    "    \n",
    "n = 5\n",
    "u = Unique()\n",
    "#u.unique3([1,2,3,4,5,6])\n",
    "results = u.test_each_algo(n)\n",
    "for key, value in results.items():\n",
    "    print (f\"The total number of tests for {key} is {value} for n = {n}\")"
   ]
  },
  {
   "cell_type": "markdown",
   "metadata": {},
   "source": [
    "Fin :)"
   ]
  }
 ],
 "metadata": {
  "kernelspec": {
   "display_name": "Python 3",
   "language": "python",
   "name": "python3"
  },
  "language_info": {
   "codemirror_mode": {
    "name": "ipython",
    "version": 3
   },
   "file_extension": ".py",
   "mimetype": "text/x-python",
   "name": "python",
   "nbconvert_exporter": "python",
   "pygments_lexer": "ipython3",
   "version": "3.6.4"
  }
 },
 "nbformat": 4,
 "nbformat_minor": 2
}
